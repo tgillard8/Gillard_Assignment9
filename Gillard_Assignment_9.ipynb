{
 "cells": [
  {
   "cell_type": "code",
   "execution_count": 11,
   "id": "8897e17e",
   "metadata": {},
   "outputs": [],
   "source": [
    "#sudoko grid checker\n",
    "#define function\n",
    "def check_sudoku_subgrid(grid):\n",
    "    #check grid for instances of 9 and if integers\n",
    "    if isinstance(grid, list) and len(grid) == 9 and all(isinstance(num, int) for num in grid):\n",
    "        #variable flat grid is defined as grid\n",
    "        flat_grid = grid\n",
    "        #checks grid if it is in a list of 3s\n",
    "    elif isinstance(grid, list) and len(grid) == 3 and all(isinstance(row, list) and len(row) == 3 for row in grid):\n",
    "        flat_grid = [num for row in grid for num in row]\n",
    "      \n",
    "    #if invalid, return error message\n",
    "    else:\n",
    "        return \"This is an invalid input.\"\n",
    "    \n",
    "    if any(not isinstance(num, int) or num < 1 or num > 9 for num in flat_grid):\n",
    "        return \"These are invalid numbers, input a correct entry.\"\n",
    "    #if duplicate values are found\n",
    "    if len(set(flat_grid)) != 9:\n",
    "        return \"There are duplcate numbers. Input a valid entry.\"\n",
    "\n",
    "    return \"Grid is correct\""
   ]
  },
  {
   "cell_type": "code",
   "execution_count": 12,
   "id": "06285b5d",
   "metadata": {},
   "outputs": [
    {
     "data": {
      "text/plain": [
       "['Grid is correct',\n",
       " 'Grid is correct',\n",
       " 'There are duplcate numbers. Input a valid entry.',\n",
       " 'This is an invalid input.',\n",
       " 'This is an invalid input.']"
      ]
     },
     "execution_count": 12,
     "metadata": {},
     "output_type": "execute_result"
    }
   ],
   "source": [
    "#tests\n",
    "test1 = [5, 3, 4, 6, 7, 8, 9, 1, 2]\n",
    "test2 = [[5, 3, 4], [6, 7, 8], [9, 1, 2]]\n",
    "test3 = [5, 3, 4, 6, 7, 8, 9, 1, 1]\n",
    "test4 = [5, 3, 4, 6, 7, 8, 9, 'x', 2]\n",
    "test5 = [[5, 3, 4], [6, 7, 8], [9, 1]]\n",
    "\n",
    "#run\n",
    "results = [check_sudoku_subgrid(t) for t in [test1, test2, test3, test4, test5]]\n",
    "results\n"
   ]
  },
  {
   "cell_type": "code",
   "execution_count": 13,
   "id": "9f179b6f",
   "metadata": {},
   "outputs": [
    {
     "name": "stdout",
     "output_type": "stream",
     "text": [
      "Grid is correct\n",
      "Grid is correct\n",
      "There are duplcate numbers. Input a valid entry.\n",
      "There are duplcate numbers. Input a valid entry.\n",
      "There are duplcate numbers. Input a valid entry.\n",
      "These are invalid numbers, input a correct entry.\n",
      "This is an invalid input.\n"
     ]
    }
   ],
   "source": [
    "#subgrids\n",
    "subgrids = [\n",
    "    [1, 2, 3, 4, 5, 6, 7, 8, 9],\n",
    "    [[5, 3, 4], [6, 7, 2], [1, 9, 8]],\n",
    "    [[9, 9, 2], [3, 4, 8], [5, 6, 7]],\n",
    "    [[8, 5, 9], [4, 2, 6], [8, 1, 3]],\n",
    "    [[7, 6, 1], [6, 8, 5], [3, 9, 6]],\n",
    "    [[4, 2, 'E'], [7, 9, 'I'], [8, 'S', 6]],\n",
    "    [[6, 7, 8], [1, 9, 5, 3], [3, 4, 2]]\n",
    "]\n",
    "\n",
    "#run\n",
    "for grid in subgrids:\n",
    "    print(check_sudoku_subgrid(grid))\n"
   ]
  },
  {
   "cell_type": "code",
   "execution_count": 14,
   "id": "fd2011d5",
   "metadata": {},
   "outputs": [
    {
     "ename": "SyntaxError",
     "evalue": "invalid syntax (3531251857.py, line 18)",
     "output_type": "error",
     "traceback": [
      "\u001b[0;36m  Cell \u001b[0;32mIn[14], line 18\u001b[0;36m\u001b[0m\n\u001b[0;31m    print(f \"The {most_common} most common words:\") # print heading\u001b[0m\n\u001b[0m            ^\u001b[0m\n\u001b[0;31mSyntaxError\u001b[0m\u001b[0;31m:\u001b[0m invalid syntax\n"
     ]
    }
   ],
   "source": [
    "#stanza word analyzer\n",
    "#import counter from collections\n",
    "from collections import Counter\n",
    "#import regex for word analysis\n",
    "import re\n",
    "#define function\n",
    "def count_unique_words(text, most_common=None):\n",
    "    #find all words in the text, convert to lowercase\n",
    "    words = re.findall(r'\\b\\w+\\b', text.lower())\n",
    "    word_count = Counter(words)\n",
    "\n",
    "    unique_count = len(word_count) #number of unique counterwords by taking the length of word count\n",
    "    print(f\"Number of special words: {unique_count}\")\n",
    "\n",
    "    #check if most common parameter is accessible\n",
    "    if most_common:\n",
    "        common_words = word_count.most_common(most_common) #retrieve most common words\n",
    "        print(f \"The {most_common} most common words:\") # print heading\n",
    "        #print each word and its word count\n",
    "        for word, count in common_words:\n",
    "            print(f\"{word}: {count}\")"
   ]
  },
  {
   "cell_type": "code",
   "execution_count": 10,
   "id": "fda61ca6",
   "metadata": {},
   "outputs": [
    {
     "name": "stdout",
     "output_type": "stream",
     "text": [
      "Testing Stanza 1:\n",
      "Number of unique words: 36\n",
      "Top 3 most common words:\n",
      "and: 3\n",
      "a: 3\n",
      "by: 3\n",
      "\n",
      "Testing Stanza 2:\n",
      "Number of unique words: 30\n",
      "Top 3 most common words:\n",
      "a: 4\n",
      "was: 3\n",
      "and: 3\n"
     ]
    }
   ],
   "source": [
    "s1 = \"\"\"It was many and many a year ago\n",
    "In a kingdom by the sea\n",
    "That a maiden there lived whom you may know\n",
    "By the name of Annabel Lee\n",
    "And this maiden she lived with no other thought\n",
    "Than to love and be loved by me\"\"\"\n",
    "\n",
    "s2 = \"\"\"I was a child and she was a child\n",
    "In this kingdom by the sea\n",
    "But we loved with a love that was more than love\n",
    "I and my Annabel Lee\n",
    "With a love that the winged seraphs of Heaven\n",
    "Coveted her and me\"\"\"\n",
    "\n",
    "print(\"Testing Stanza 1:\")\n",
    "count_unique_words(s1, most_common=3)\n",
    "\n",
    "print(\"\\nTesting Stanza 2:\")\n",
    "count_unique_words(s2, most_common=3)"
   ]
  },
  {
   "cell_type": "code",
   "execution_count": null,
   "id": "ff908115",
   "metadata": {},
   "outputs": [],
   "source": []
  }
 ],
 "metadata": {
  "kernelspec": {
   "display_name": "Python 3 (ipykernel)",
   "language": "python",
   "name": "python3"
  },
  "language_info": {
   "codemirror_mode": {
    "name": "ipython",
    "version": 3
   },
   "file_extension": ".py",
   "mimetype": "text/x-python",
   "name": "python",
   "nbconvert_exporter": "python",
   "pygments_lexer": "ipython3",
   "version": "3.11.5"
  }
 },
 "nbformat": 4,
 "nbformat_minor": 5
}
